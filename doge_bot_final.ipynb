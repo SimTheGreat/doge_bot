{
 "cells": [
  {
   "cell_type": "code",
   "execution_count": 1,
   "metadata": {},
   "outputs": [],
   "source": [
    "#importing modules\n",
    "import tweepy \n",
    "import csv\n",
    "import pandas as pd\n",
    "import requests       \n",
    "import json            \n",
    "import numpy as np        \n",
    "import matplotlib.pyplot as plt \n",
    "import datetime \n",
    "from binance import Client, ThreadedWebsocketManager, ThreadedDepthCacheManager\n",
    "import time"
   ]
  },
  {
   "cell_type": "code",
   "execution_count": 2,
   "metadata": {},
   "outputs": [],
   "source": [
    "\n",
    "#Twitter API keys\n",
    "consumer_key = \"*******************\"\n",
    "consumer_secret = \"*******************\"\n",
    "access_key = \"*******************\"\n",
    "access_secret = \"*******************\""
   ]
  },
  {
   "cell_type": "code",
   "execution_count": 3,
   "metadata": {},
   "outputs": [],
   "source": [
    "def get_all_tweets(screen_name):\n",
    "    #Twitter only allows access to a users most recent 3240 tweets with this method\n",
    "    \n",
    "    #authorize twitter, initialize tweepy\n",
    "    auth = tweepy.OAuthHandler(consumer_key, consumer_secret)\n",
    "    auth.set_access_token(access_key, access_secret)\n",
    "    api = tweepy.API(auth)\n",
    "    \n",
    "    #initialize a list to hold all the tweepy Tweets\n",
    "    alltweets = []  \n",
    "    alltweets_minus_replys=[]\n",
    "    \n",
    "    \n",
    "    new_tweets = api.user_timeline(screen_name = screen_name,count=200)\n",
    "    \n",
    "    #save most recent tweets\n",
    "    alltweets.extend(new_tweets)\n",
    "    \n",
    "    \n",
    "    oldest = alltweets[-1].id - 1\n",
    "    \n",
    "    \n",
    "    while len(new_tweets) > 0:\n",
    "        print(f\"getting tweets before {oldest}\")\n",
    "        \n",
    "        \n",
    "        new_tweets = api.user_timeline(screen_name = screen_name,count=200,max_id=oldest)\n",
    "        \n",
    "        \n",
    "        alltweets.extend(new_tweets)\n",
    "    \n",
    "        oldest = alltweets[-1].id-1\n",
    "        \n",
    "        print(f\"...{len(alltweets)} tweets downloaded so far\")\n",
    "    \n",
    "    \n",
    "    outtweets = [[tweet.id_str, tweet.created_at, tweet.text] for tweet in alltweets]\n",
    "    for i in outtweets:\n",
    "        tweet = api.get_status(i[0])\n",
    "        if tweet.in_reply_to_status_id is not None:\n",
    "        # Tweet is a reply\n",
    "            pass\n",
    "            \n",
    "        else:\n",
    "    # Tweet is not a reply\n",
    "            alltweets_minus_replys.append(i)\n",
    "        \n",
    "\n",
    "    #write the csv  \n",
    "    with open(f'new_{screen_name}_tweets.csv', 'w') as f:\n",
    "        writer = csv.writer(f)\n",
    "        writer.writerow([\"id\",\"created_at\",\"text\"])\n",
    "        writer.writerows(alltweets_minus_replys)\n",
    "    \n",
    "    pass\n"
   ]
  },
  {
   "cell_type": "code",
   "execution_count": 4,
   "metadata": {},
   "outputs": [],
   "source": [
    "#binance api\n",
    "client = Client(\"*******************\", \"*******************\")\n"
   ]
  },
  {
   "cell_type": "code",
   "execution_count": 5,
   "metadata": {},
   "outputs": [],
   "source": [
    "def sell_doge():\n",
    "    order = client.create_order(\n",
    "        symbol=\"DOGEUSDT\",\n",
    "        side=Client.SIDE_SELL,\n",
    "        type=Client.ORDER_TYPE_MARKET,\n",
    "        quantity=75)"
   ]
  },
  {
   "cell_type": "code",
   "execution_count": 11,
   "metadata": {},
   "outputs": [],
   "source": [
    "def sell_shib():\n",
    "    order = client.create_order(\n",
    "        symbol=\"SHIBUSDT\",\n",
    "        side=Client.SIDE_SELL,\n",
    "        type=Client.ORDER_TYPE_MARKET,\n",
    "        quantity=3000000)"
   ]
  },
  {
   "cell_type": "code",
   "execution_count": 12,
   "metadata": {},
   "outputs": [
    {
     "name": "stdout",
     "output_type": "stream",
     "text": [
      "1\n",
      "no doge related tweet in the last  50  tweets\n",
      "shib tweet found\n",
      "buying shib\n"
     ]
    }
   ],
   "source": [
    "while True:\n",
    "    if __name__ == '__main__':\n",
    "\n",
    "        get_all_tweets(\"elonmusk\")#getting elon musks tweets\n",
    "    \n",
    "    data = pd.read_csv('new_elonmusk_tweets.csv')\n",
    "    #checking for shib related tweets\n",
    "    data_shib=pd.DataFrame()\n",
    "    for j in data['text']:\n",
    "        \n",
    "        if 'shib'   in j or 'Shib'in j or \"SHIB\" in j or \"Floki\" in j or :\n",
    "            \n",
    "            row=data[data['text']==j]\n",
    "            \n",
    "            data_shib = data_shib.append(row)\n",
    "            data_shib=data_shib.reset_index(drop=True)\n",
    "            \n",
    "    \n",
    "        \n",
    "        \n",
    "    #checking for doge related tweets\n",
    "    data_doge=pd.DataFrame()    \n",
    "    for j in data['text']:\n",
    "        if 'doge'   in j or 'Doge'in j:\n",
    "            row=data[data['text']==j]\n",
    "            data_doge = data_doge.append(row)\n",
    "            data_doge=data_doge.reset_index(drop=True)\n",
    "            \n",
    "    #checking if  there are any doge related tweets\n",
    "    if len(data_doge)==0:\n",
    "        print('no doge related tweet in the last ', len(data), ' tweets')  \n",
    "    #checking if  there are any shiba related tweets\n",
    "    if len(data_shib)==0:\n",
    "        print('no shiba related tweet in the last ', len(data), ' tweets')\n",
    "        \n",
    "    #if shib dataset is populated and the tweet was tweeted in thge same hour, sell shib\n",
    "    if len(data_shib)!=0:\n",
    "        print('shib tweet found')\n",
    "        if data_shib['created_at'][0][:-5]==datetime.datetime.now().strftime(\"%Y-%m-%d %H:%M:%S\")[:-5]:\n",
    "                print('selling shib')\n",
    "                time.sleep(600)#waiting for 10 min\n",
    "                sell_shib()\n",
    "        \n",
    "    \n",
    "    #if doge dataset is populated and the tweet was tweeted in thge same hour, sell shib    \n",
    "    if len(data_doge)!=0:\n",
    "        \n",
    "        if data_doge['created_at'][0][:-5]==datetime.datetime.now().strftime(\"%Y-%m-%d %H:%M:%S\")[:-5]:\n",
    "            print('doge tweet found')\n",
    "            time.sleep(600)#waiting for 10 min\n",
    "            sell_doge()\n",
    "        \n",
    "    \n",
    "    time.sleep(3600)#waiting for 1 hour to run code again\n",
    "    \n",
    "    \n",
    " "
   ]
  }
 ],
 "metadata": {
  "kernelspec": {
   "display_name": "Python 3",
   "language": "python",
   "name": "python3"
  },
  "language_info": {
   "codemirror_mode": {
    "name": "ipython",
    "version": 3
   },
   "file_extension": ".py",
   "mimetype": "text/x-python",
   "name": "python",
   "nbconvert_exporter": "python",
   "pygments_lexer": "ipython3",
   "version": "3.8.8"
  }
 },
 "nbformat": 4,
 "nbformat_minor": 4
}
